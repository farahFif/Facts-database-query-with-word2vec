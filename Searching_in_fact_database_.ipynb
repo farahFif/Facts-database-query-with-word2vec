{
  "nbformat": 4,
  "nbformat_minor": 0,
  "metadata": {
    "colab": {
      "name": "Searching in fact database .ipynb",
      "provenance": [],
      "collapsed_sections": [],
      "authorship_tag": "ABX9TyNsccrBNdSF/8WAJ4sYawVX",
      "include_colab_link": true
    },
    "kernelspec": {
      "name": "python3",
      "display_name": "Python 3"
    }
  },
  "cells": [
    {
      "cell_type": "markdown",
      "metadata": {
        "id": "view-in-github",
        "colab_type": "text"
      },
      "source": [
        "<a href=\"https://colab.research.google.com/github/farahFif/Facts-database-query-with-word2vec/blob/master/Searching_in_fact_database_.ipynb\" target=\"_parent\"><img src=\"https://colab.research.google.com/assets/colab-badge.svg\" alt=\"Open In Colab\"/></a>"
      ]
    },
    {
      "cell_type": "markdown",
      "metadata": {
        "id": "eVqASylIbRg5",
        "colab_type": "text"
      },
      "source": [
        "# Searching in the curious facts database using word2vec and on topic modeling dataset \n",
        "\n",
        "We want you to retrieve facts relevant to the query, for example, you type \"good mood\", and get to know that Cherophobia is the fear of fun."
      ]
    },
    {
      "cell_type": "code",
      "metadata": {
        "id": "1cXp_lCEbQvq",
        "colab_type": "code",
        "colab": {
          "base_uri": "https://localhost:8080/",
          "height": 336
        },
        "outputId": "cae8f1ab-6e7c-4f61-89cd-7b8ae1d9709c"
      },
      "source": [
        "!pip install gensim"
      ],
      "execution_count": 9,
      "outputs": [
        {
          "output_type": "stream",
          "text": [
            "Requirement already satisfied: gensim in /usr/local/lib/python3.6/dist-packages (3.6.0)\n",
            "Requirement already satisfied: scipy>=0.18.1 in /usr/local/lib/python3.6/dist-packages (from gensim) (1.4.1)\n",
            "Requirement already satisfied: numpy>=1.11.3 in /usr/local/lib/python3.6/dist-packages (from gensim) (1.18.4)\n",
            "Requirement already satisfied: smart-open>=1.2.1 in /usr/local/lib/python3.6/dist-packages (from gensim) (2.0.0)\n",
            "Requirement already satisfied: six>=1.5.0 in /usr/local/lib/python3.6/dist-packages (from gensim) (1.12.0)\n",
            "Requirement already satisfied: requests in /usr/local/lib/python3.6/dist-packages (from smart-open>=1.2.1->gensim) (2.23.0)\n",
            "Requirement already satisfied: boto in /usr/local/lib/python3.6/dist-packages (from smart-open>=1.2.1->gensim) (2.49.0)\n",
            "Requirement already satisfied: boto3 in /usr/local/lib/python3.6/dist-packages (from smart-open>=1.2.1->gensim) (1.13.19)\n",
            "Requirement already satisfied: urllib3!=1.25.0,!=1.25.1,<1.26,>=1.21.1 in /usr/local/lib/python3.6/dist-packages (from requests->smart-open>=1.2.1->gensim) (1.24.3)\n",
            "Requirement already satisfied: idna<3,>=2.5 in /usr/local/lib/python3.6/dist-packages (from requests->smart-open>=1.2.1->gensim) (2.9)\n",
            "Requirement already satisfied: certifi>=2017.4.17 in /usr/local/lib/python3.6/dist-packages (from requests->smart-open>=1.2.1->gensim) (2020.4.5.1)\n",
            "Requirement already satisfied: chardet<4,>=3.0.2 in /usr/local/lib/python3.6/dist-packages (from requests->smart-open>=1.2.1->gensim) (3.0.4)\n",
            "Requirement already satisfied: s3transfer<0.4.0,>=0.3.0 in /usr/local/lib/python3.6/dist-packages (from boto3->smart-open>=1.2.1->gensim) (0.3.3)\n",
            "Requirement already satisfied: jmespath<1.0.0,>=0.7.1 in /usr/local/lib/python3.6/dist-packages (from boto3->smart-open>=1.2.1->gensim) (0.10.0)\n",
            "Requirement already satisfied: botocore<1.17.0,>=1.16.19 in /usr/local/lib/python3.6/dist-packages (from boto3->smart-open>=1.2.1->gensim) (1.16.19)\n",
            "Requirement already satisfied: python-dateutil<3.0.0,>=2.1 in /usr/local/lib/python3.6/dist-packages (from botocore<1.17.0,>=1.16.19->boto3->smart-open>=1.2.1->gensim) (2.8.1)\n",
            "Requirement already satisfied: docutils<0.16,>=0.10 in /usr/local/lib/python3.6/dist-packages (from botocore<1.17.0,>=1.16.19->boto3->smart-open>=1.2.1->gensim) (0.15.2)\n"
          ],
          "name": "stdout"
        }
      ]
    },
    {
      "cell_type": "code",
      "metadata": {
        "id": "128tdpGIp_m1",
        "colab_type": "code",
        "colab": {
          "base_uri": "https://localhost:8080/",
          "height": 52
        },
        "outputId": "7b5b07a0-e7e6-44a5-d8ae-490b9b20c9cc"
      },
      "source": [
        "from gensim.models.doc2vec import Doc2Vec\n",
        "import pickle\n",
        "import os \n",
        "import re \n",
        "import numpy as np \n",
        "import nltk\n",
        "import nltk.tokenize as tokenizer\n",
        "nltk.download('punkt')\n",
        "from sklearn.metrics.pairwise import cosine_similarity \n",
        "from collections import Counter\n",
        "import heapq\n"
      ],
      "execution_count": 1,
      "outputs": [
        {
          "output_type": "stream",
          "text": [
            "[nltk_data] Downloading package punkt to /root/nltk_data...\n",
            "[nltk_data]   Unzipping tokenizers/punkt.zip.\n"
          ],
          "name": "stdout"
        }
      ]
    },
    {
      "cell_type": "markdown",
      "metadata": {
        "id": "I27ifaHeqmXO",
        "colab_type": "text"
      },
      "source": [
        "We need first to read facts. Facts file is available  [here](https://github.com/hsu-ai-course/hsu.ai/blob/master/code/datasets/nlp/facts.txt)"
      ]
    },
    {
      "cell_type": "code",
      "metadata": {
        "id": "8-Egc5eNrLSj",
        "colab_type": "code",
        "colab": {}
      },
      "source": [
        "# Read facts into list\n",
        "# facts can be found here https://github.com/hsu-ai-course/hsu.ai/blob/master/code/datasets/nlp/facts.txt\n",
        "\n",
        "file = open('facts.txt')\n",
        "facts = [ re.sub(r\"\\n\",\"\",x) for x in file.readlines()]\n",
        "print(facts[0],)\n",
        "file.close()"
      ],
      "execution_count": 0,
      "outputs": []
    },
    {
      "cell_type": "markdown",
      "metadata": {
        "id": "Q4NxDlPMq-NF",
        "colab_type": "text"
      },
      "source": [
        "For inferring vector with word2vec.\n",
        "First, let's load the pre-trained doc2vec model from https://github.com/jhlau/doc2vec\n"
      ]
    },
    {
      "cell_type": "code",
      "metadata": {
        "id": "pROLrVDCsNFz",
        "colab_type": "code",
        "colab": {}
      },
      "source": [
        "#transforming sentences to vector\n",
        "\n",
        "def is_apt_word(word):\n",
        "  \"\"\" Checking if it is a word \"\"\"\n",
        "  return word.isalpha()\n",
        "\n",
        "def norm_vectors(A):\n",
        "    \"\"\" Normalizing vectors \"\"\"\n",
        "    An = A.copy()\n",
        "    norm = np.linalg.norm(An , axis=1).reshape(-1,1)\n",
        "    v = An/norm    \n",
        "    return An/norm\n",
        "\n",
        "words = []\n",
        "for i in range(len(facts)):\n",
        "  st = re.sub(r\"\\d+.\",\"\",facts[i])\n",
        "  tok  = tokenizer.word_tokenize(st)\n",
        "  words.append( [w for w in tok if is_apt_word(w)])\n",
        "\n",
        "# Generationg vectors\n",
        "fact_array = np.array(words)\n",
        "model = Doc2Vec.load('doc2vec.bin', mmap=None)\n",
        "sent_vecs = np.array([model.infer_vector(v) for v in fact_array])\n",
        "sent_vecs = norm_vectors(sent_vecs)"
      ],
      "execution_count": 0,
      "outputs": []
    },
    {
      "cell_type": "markdown",
      "metadata": {
        "id": "Cygbn7oOrRdL",
        "colab_type": "text"
      },
      "source": [
        "Then we need to find 5 closest facts to the query. We need to calculate cosine similarity between query vector and vectors from facts."
      ]
    },
    {
      "cell_type": "code",
      "metadata": {
        "id": "QvcMJFb1trTR",
        "colab_type": "code",
        "colab": {
          "base_uri": "https://localhost:8080/",
          "height": 122
        },
        "outputId": "26630985-100e-4c2c-aed8-619b71758ec9"
      },
      "source": [
        "def get_words_from_sentence(sentences):\n",
        "    for sentence in sentences: \n",
        "        yield nltk.word_tokenize(sentence.split('.', 1)[1])\n",
        "\n",
        "def find_k_closest(query, dataset, k=5):    \n",
        "    #find 5 closest rows in dataset in terms of cosine similarity\n",
        "    #Since vectors in dataset are already normed, cosine similarity is just dot product.  \n",
        "    op = []\n",
        "    for i in range(len(dataset)):\n",
        "      op.append((i, np.dot(query, dataset[i])))\n",
        "          \n",
        "    cos = np.asarray([tup[1] for tup in op])\n",
        "    indx = heapq.nlargest(5, range(len(cos)), cos.take)\n",
        "    sc = [op[j] for j in indx]\n",
        "    return sc\n",
        "\n",
        "\n",
        "query = \"good mood\"\n",
        "query_vec = model.infer_vector(nltk.word_tokenize(query))\n",
        "query_vec_normed = query_vec/np.linalg.norm(query_vec)\n",
        "r = find_k_closest(query_vec_normed,sent_vecs)\n",
        "\n",
        "print(\"Results for query:\", query)\n",
        "for k, p in r:\n",
        "    print(\"\\t\", facts[k], \"sim=\", p)"
      ],
      "execution_count": 7,
      "outputs": [
        {
          "output_type": "stream",
          "text": [
            "Results for query: good mood\n",
            "\t 144. Dolphins sleep with one eye open! sim= 0.6115808\n",
            "\t 68. Cherophobia is the fear of fun. sim= 0.60771847\n",
            "\t 57. Gorillas burp when they are happy sim= 0.59873986\n",
            "\t 76. You breathe on average about 8,409,600 times a year sim= 0.5648149\n",
            "\t 110. Cats have 32 muscles in each of their ears. sim= 0.56407446\n"
          ],
          "name": "stdout"
        }
      ]
    },
    {
      "cell_type": "markdown",
      "metadata": {
        "id": "xvHEWfqdt6ZT",
        "colab_type": "text"
      },
      "source": [
        "# Training doc2vec model on topic-modeling dataset\n",
        "\n"
      ]
    },
    {
      "cell_type": "code",
      "metadata": {
        "id": "gJaJ5FIet5pC",
        "colab_type": "code",
        "colab": {
          "base_uri": "https://localhost:8080/",
          "height": 810
        },
        "outputId": "ff1a8af5-5498-4303-ce54-4ff680c301ff"
      },
      "source": [
        "# first we download the dataset that consists of 4 files each file has one specific topic\n",
        "\n",
        "! wget 'https://storage.googleapis.com/google-code-archive-downloads/v2/code.google.com/topic-modeling-tool/testdata_news_music_2084docs.txt'\n",
        "! wget 'https://storage.googleapis.com/google-code-archive-downloads/v2/code.google.com/topic-modeling-tool/testdata_news_economy_2073docs.txt'\n",
        "! wget 'https://storage.googleapis.com/google-code-archive-downloads/v2/code.google.com/topic-modeling-tool/testdata_news_fuel_845docs.txt'\n",
        "! wget 'https://storage.googleapis.com/google-code-archive-downloads/v2/code.google.com/topic-modeling-tool/testdata_braininjury_10000docs.txt'"
      ],
      "execution_count": 8,
      "outputs": [
        {
          "output_type": "stream",
          "text": [
            "--2020-06-04 15:10:18--  https://storage.googleapis.com/google-code-archive-downloads/v2/code.google.com/topic-modeling-tool/testdata_news_music_2084docs.txt\n",
            "Resolving storage.googleapis.com (storage.googleapis.com)... 74.125.23.128, 2404:6800:4008:c01::80\n",
            "Connecting to storage.googleapis.com (storage.googleapis.com)|74.125.23.128|:443... connected.\n",
            "HTTP request sent, awaiting response... 200 OK\n",
            "Length: 13985603 (13M) [application/octet-stream]\n",
            "Saving to: ‘testdata_news_music_2084docs.txt’\n",
            "\n",
            "testdata_news_music 100%[===================>]  13.34M  19.3MB/s    in 0.7s    \n",
            "\n",
            "2020-06-04 15:10:19 (19.3 MB/s) - ‘testdata_news_music_2084docs.txt’ saved [13985603/13985603]\n",
            "\n",
            "--2020-06-04 15:10:21--  https://storage.googleapis.com/google-code-archive-downloads/v2/code.google.com/topic-modeling-tool/testdata_news_economy_2073docs.txt\n",
            "Resolving storage.googleapis.com (storage.googleapis.com)... 74.125.23.128, 2404:6800:4008:c01::80\n",
            "Connecting to storage.googleapis.com (storage.googleapis.com)|74.125.23.128|:443... connected.\n",
            "HTTP request sent, awaiting response... 200 OK\n",
            "Length: 13682532 (13M) [application/octet-stream]\n",
            "Saving to: ‘testdata_news_economy_2073docs.txt’\n",
            "\n",
            "testdata_news_econo 100%[===================>]  13.05M  16.1MB/s    in 0.8s    \n",
            "\n",
            "2020-06-04 15:10:22 (16.1 MB/s) - ‘testdata_news_economy_2073docs.txt’ saved [13682532/13682532]\n",
            "\n",
            "--2020-06-04 15:10:24--  https://storage.googleapis.com/google-code-archive-downloads/v2/code.google.com/topic-modeling-tool/testdata_news_fuel_845docs.txt\n",
            "Resolving storage.googleapis.com (storage.googleapis.com)... 64.233.189.128, 2404:6800:4008:c01::80\n",
            "Connecting to storage.googleapis.com (storage.googleapis.com)|64.233.189.128|:443... connected.\n",
            "HTTP request sent, awaiting response... 200 OK\n",
            "Length: 5564877 (5.3M) [application/octet-stream]\n",
            "Saving to: ‘testdata_news_fuel_845docs.txt’\n",
            "\n",
            "testdata_news_fuel_ 100%[===================>]   5.31M  21.2MB/s    in 0.3s    \n",
            "\n",
            "2020-06-04 15:10:25 (21.2 MB/s) - ‘testdata_news_fuel_845docs.txt’ saved [5564877/5564877]\n",
            "\n",
            "--2020-06-04 15:10:27--  https://storage.googleapis.com/google-code-archive-downloads/v2/code.google.com/topic-modeling-tool/testdata_braininjury_10000docs.txt\n",
            "Resolving storage.googleapis.com (storage.googleapis.com)... 64.233.189.128, 2404:6800:4008:c01::80\n",
            "Connecting to storage.googleapis.com (storage.googleapis.com)|64.233.189.128|:443... connected.\n",
            "HTTP request sent, awaiting response... 200 OK\n",
            "Length: 10096125 (9.6M) [application/octet-stream]\n",
            "Saving to: ‘testdata_braininjury_10000docs.txt’\n",
            "\n",
            "testdata_braininjur 100%[===================>]   9.63M  14.8MB/s    in 0.7s    \n",
            "\n",
            "2020-06-04 15:10:28 (14.8 MB/s) - ‘testdata_braininjury_10000docs.txt’ saved [10096125/10096125]\n",
            "\n"
          ],
          "name": "stdout"
        }
      ]
    },
    {
      "cell_type": "code",
      "metadata": {
        "id": "1i5LusmquNGL",
        "colab_type": "code",
        "colab": {}
      },
      "source": [
        "def read_dataset(file_path):\n",
        "    docs = []\n",
        "    with open(file_path) as fp:\n",
        "        for cnt, line in enumerate(fp):\n",
        "            docs.append(nltk.word_tokenize(line))\n",
        "    return docs\n",
        "\n",
        "fuel_data = read_dataset(\"testdata_news_fuel_845docs.txt\")\n",
        "brain_inj_data = read_dataset(\"testdata_braininjury_10000docs.txt\")\n",
        "economy_data = read_dataset(\"testdata_news_economy_2073docs.txt\")\n",
        "music_data = read_dataset(\"testdata_news_music_2084docs.txt\")\n",
        "\n",
        "all_data = fuel_data + brain_inj_data + economy_data + music_data"
      ],
      "execution_count": 0,
      "outputs": []
    },
    {
      "cell_type": "code",
      "metadata": {
        "id": "WPbYhzitxJz6",
        "colab_type": "code",
        "colab": {
          "base_uri": "https://localhost:8080/",
          "height": 34
        },
        "outputId": "267506a6-4875-45e7-cf73-5a3f94282470"
      },
      "source": [
        "print(len(all_data))\n",
        "assert len(all_data) == 15002"
      ],
      "execution_count": 11,
      "outputs": [
        {
          "output_type": "stream",
          "text": [
            "15002\n"
          ],
          "name": "stdout"
        }
      ]
    },
    {
      "cell_type": "code",
      "metadata": {
        "id": "anZrBiySwaSM",
        "colab_type": "code",
        "colab": {
          "base_uri": "https://localhost:8080/",
          "height": 72
        },
        "outputId": "13c1f9b8-643c-407b-b515-aa15fa6e04ff"
      },
      "source": [
        "from gensim.test.utils import common_texts\n",
        "from gensim.models.doc2vec import Doc2Vec, TaggedDocument\n",
        "\n",
        "# just a test set of tokenized sentences\n",
        "documents = [TaggedDocument(doc, [i]) for i, doc in enumerate(all_data)]\n",
        "\n",
        "# train a model\n",
        "model_d2v = Doc2Vec(\n",
        "    documents,     # collection of texts\n",
        "    vector_size=300, # output vector size\n",
        "    window=2,      # maximum distance between the target word and its neighboring word\n",
        "    min_count=1,   # minimal number of \n",
        "    workers=4      # in parallel\n",
        ")\n",
        "\n",
        "# clean training data\n",
        "model_d2v.delete_temporary_training_data(keep_doctags_vectors=True, keep_inference=True)\n",
        "\n",
        "# save and load\n",
        "model_d2v.save(\"d2v.model\")\n",
        "model_d2v = Doc2Vec.load(\"d2v.model\")"
      ],
      "execution_count": 12,
      "outputs": [
        {
          "output_type": "stream",
          "text": [
            "/usr/local/lib/python3.6/dist-packages/smart_open/smart_open_lib.py:253: UserWarning: This function is deprecated, use smart_open.open instead. See the migration notes for details: https://github.com/RaRe-Technologies/smart_open/blob/master/README.rst#migrating-to-the-new-open-function\n",
            "  'See the migration notes for details: %s' % _MIGRATION_NOTES_URL\n"
          ],
          "name": "stderr"
        }
      ]
    },
    {
      "cell_type": "code",
      "metadata": {
        "id": "lKWtPeBXyHcG",
        "colab_type": "code",
        "colab": {}
      },
      "source": [
        "# organazing labels\n",
        "all_labels = np.zeros((len(all_data)))\n",
        "all_labels[:len(fuel_data)] = 1\n",
        "all_labels[len(fuel_data):len(fuel_data) + len(brain_inj_data)] = 2\n",
        "all_labels[len(fuel_data) + len(brain_inj_data): len(fuel_data) + len(brain_inj_data) + len(economy_data)] = 3     \n",
        "\n",
        "# transforming data to vectors\n",
        "all_data_vecs = np.array(list(model_d2v.infer_vector(sent) for sent in all_data))"
      ],
      "execution_count": 0,
      "outputs": []
    },
    {
      "cell_type": "code",
      "metadata": {
        "id": "xROrkZpmzwHe",
        "colab_type": "code",
        "colab": {}
      },
      "source": [
        "from sklearn import utils\n",
        "from collections import Counter\n",
        "from sklearn.model_selection import train_test_split\n",
        "\n",
        "all_data_vecs = np.array(list(model_d2v.infer_vector(sent) for sent in all_data))\n",
        "X_train, X_test, y_train, y_test = train_test_split(all_data_vecs, all_labels, test_size=0.33, \n",
        "                                                    random_state=0, stratify=all_labels)"
      ],
      "execution_count": 0,
      "outputs": []
    },
    {
      "cell_type": "code",
      "metadata": {
        "id": "bZ3YfGqj1Ndt",
        "colab_type": "code",
        "colab": {
          "base_uri": "https://localhost:8080/",
          "height": 265
        },
        "outputId": "d0af0cff-59ae-424c-83d0-f39837ce3926"
      },
      "source": [
        "from sklearn.svm import LinearSVC\n",
        "from sklearn.metrics import classification_report\n",
        "\n",
        "# SVM\n",
        "\n",
        "clf = LinearSVC(random_state=0, tol=1e-5)\n",
        "clf.fit(X_train, y_train)\n",
        "target_names = [\"music\", \"fuel\", \"brain\", \"economy\"] # (0,1,2,3)\n",
        "y_pred = clf.predict(X_test)\n",
        "print(classification_report(y_test, y_pred, target_names = target_names))"
      ],
      "execution_count": 15,
      "outputs": [
        {
          "output_type": "stream",
          "text": [
            "              precision    recall  f1-score   support\n",
            "\n",
            "       music       0.79      0.89      0.83       688\n",
            "        fuel       0.67      0.36      0.47       279\n",
            "       brain       1.00      1.00      1.00      3300\n",
            "     economy       0.76      0.80      0.78       684\n",
            "\n",
            "    accuracy                           0.92      4951\n",
            "   macro avg       0.80      0.76      0.77      4951\n",
            "weighted avg       0.92      0.92      0.92      4951\n",
            "\n"
          ],
          "name": "stdout"
        },
        {
          "output_type": "stream",
          "text": [
            "/usr/local/lib/python3.6/dist-packages/sklearn/svm/_base.py:947: ConvergenceWarning: Liblinear failed to converge, increase the number of iterations.\n",
            "  \"the number of iterations.\", ConvergenceWarning)\n"
          ],
          "name": "stderr"
        }
      ]
    }
  ]
}